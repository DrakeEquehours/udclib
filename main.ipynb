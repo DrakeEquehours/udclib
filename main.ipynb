{
 "cells": [
  {
   "cell_type": "code",
   "execution_count": null,
   "metadata": {},
   "outputs": [],
   "source": [
    "from UDClib.object_detection.augmentation.transformations import transform_image_from_folder\n",
    "from UDClib.operation.split import split_test\n",
    "from UDClib.object_detection.augmentation.visuals import visualize, read_img, find_bbox\n",
    "import albumentations as A"
   ]
  },
  {
   "cell_type": "code",
   "execution_count": null,
   "metadata": {},
   "outputs": [],
   "source": [
    "visualize(read_img('x.jpg'), find_bbox('x.xml'), 'class')"
   ]
  },
  {
   "cell_type": "code",
   "execution_count": null,
   "metadata": {},
   "outputs": [],
   "source": [
    "operator = [   \n",
    "    A.RandomBrightnessContrast(brightness_limit=0.4, contrast_limit=0.1, p=0.95),\n",
    "    A.ElasticTransform(p=0.3),\n",
    "    A.AdvancedBlur(p=0.4),\n",
    "    A.GaussNoise(var_limit=(5.0, 50.0), p=0.4),\n",
    "    A.ShiftScaleRotate(shift_limit=0.0025, scale_limit=0.2, rotate_limit=15, p=0.8),\n",
    "    A.RGBShift(r_shift_limit=10, g_shift_limit=10, b_shift_limit=10, p=0.3),\n",
    "    A.FancyPCA(),\n",
    "    A.PixelDropout(),\n",
    "    A.HorizontalFlip(p=0.5),\n",
    "    A.ColorJitter(hue=0.3),\n",
    "    A.OpticalDistortion(p=0.5),\n",
    "    A.Downscale(scale_min=0.8, scale_max=0.8, p=0.5),\n",
    "    A.HueSaturationValue(p=0.5),\n",
    "    A.ISONoise(p=0.5),\n",
    "    A.GaussianBlur(blur_limit=(1, 3), p=0.5),\n",
    " ]"
   ]
  },
  {
   "cell_type": "code",
   "execution_count": null,
   "metadata": {},
   "outputs": [],
   "source": [
    "dataset = 'directory'\n",
    "transform_image_from_folder(dataset, 10, operator, \"pascal_voc\")"
   ]
  },
  {
   "cell_type": "code",
   "execution_count": null,
   "metadata": {},
   "outputs": [],
   "source": [
    "visualize(read_img('dataset_augmented/class/x.jpg'), find_bbox('dataset_augmented/class/x.xml'), 'class')"
   ]
  },
  {
   "cell_type": "code",
   "execution_count": null,
   "metadata": {},
   "outputs": [],
   "source": [
    "split_test('dataset_augmented')"
   ]
  }
 ],
 "metadata": {
  "kernelspec": {
   "display_name": "example",
   "language": "python",
   "name": "python3"
  },
  "language_info": {
   "codemirror_mode": {
    "name": "ipython",
    "version": 3
   },
   "file_extension": ".py",
   "mimetype": "text/x-python",
   "name": "python",
   "nbconvert_exporter": "python",
   "pygments_lexer": "ipython3",
   "version": "3.10.0"
  },
  "orig_nbformat": 4,
  "vscode": {
   "interpreter": {
    "hash": "72442deac00e33d3b1fa29789b10d8153240a00fb06e6d4c5434ebedfe10ec0d"
   }
  }
 },
 "nbformat": 4,
 "nbformat_minor": 2
}
